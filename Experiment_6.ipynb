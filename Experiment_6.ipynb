{
  "nbformat": 4,
  "nbformat_minor": 0,
  "metadata": {
    "colab": {
      "provenance": [],
      "authorship_tag": "ABX9TyPoJZytTV7Nq2TfRi+RqHvJ",
      "include_colab_link": true
    },
    "kernelspec": {
      "name": "python3",
      "display_name": "Python 3"
    },
    "language_info": {
      "name": "python"
    }
  },
  "cells": [
    {
      "cell_type": "markdown",
      "metadata": {
        "id": "view-in-github",
        "colab_type": "text"
      },
      "source": [
        "<a href=\"https://colab.research.google.com/github/ashmit29/AIML/blob/main/Experiment_6.ipynb\" target=\"_parent\"><img src=\"https://colab.research.google.com/assets/colab-badge.svg\" alt=\"Open In Colab\"/></a>"
      ]
    },
    {
      "cell_type": "code",
      "execution_count": 1,
      "metadata": {
        "colab": {
          "base_uri": "https://localhost:8080/",
          "height": 892
        },
        "id": "wZnfWxk6vtSR",
        "outputId": "4e597af3-f2d4-4adb-ce30-d81fe1a1c7f4"
      },
      "outputs": [
        {
          "output_type": "stream",
          "name": "stdout",
          "text": [
            "Original Dataset:\n",
            "   numerical_column categorical_column\n",
            "0              10.0                  A\n",
            "1              12.0                  B\n",
            "2               NaN                  A\n",
            "3              25.0                  B\n",
            "4              30.0                NaN\n",
            "5              28.0                  A\n",
            "6             100.0                  B\n",
            "7              50.0                  B\n",
            "8              45.0                  A\n",
            "9             200.0                  B\n",
            "\n",
            "Missing values in each column:\n",
            " numerical_column      1\n",
            "categorical_column    1\n",
            "dtype: int64\n",
            "\n",
            "Detected outliers:\n",
            "    numerical_column categorical_column\n",
            "6             100.0                  B\n",
            "9             200.0                  B\n"
          ]
        },
        {
          "output_type": "stream",
          "name": "stderr",
          "text": [
            "/usr/local/lib/python3.10/dist-packages/seaborn/categorical.py:640: FutureWarning: SeriesGroupBy.grouper is deprecated and will be removed in a future version of pandas.\n",
            "  positions = grouped.grouper.result_index.to_numpy(dtype=float)\n"
          ]
        },
        {
          "output_type": "display_data",
          "data": {
            "text/plain": [
              "<Figure size 1200x600 with 1 Axes>"
            ],
            "image/png": "[encoded data removed]"
          },
          "metadata": {}
        }
      ],
      "source": [
        "import pandas as pd\n",
        "import numpy as np\n",
        "import seaborn as sns\n",
        "import matplotlib.pyplot as plt\n",
        "\n",
        "# Sample dataset creation\n",
        "data = {\n",
        "    'numerical_column': [10, 12, np.nan, 25, 30, 28, 100, 50, 45, 200],\n",
        "    'categorical_column': ['A', 'B', 'A', 'B', np.nan, 'A', 'B', 'B', 'A', 'B']\n",
        "}\n",
        "df = pd.DataFrame(data)\n",
        "\n",
        "# Display the original dataset\n",
        "print(\"Original Dataset:\")\n",
        "print(df)\n",
        "\n",
        "# Check for missing values\n",
        "missing_values = df.isnull().sum()\n",
        "print(\"\\nMissing values in each column:\\n\", missing_values[missing_values > 0])\n",
        "\n",
        "# Impute missing values for numerical and categorical columns\n",
        "if 'numerical_column' in df.columns:\n",
        "    df['numerical_column'] = df['numerical_column'].fillna(df['numerical_column'].mean())\n",
        "if 'categorical_column' in df.columns:\n",
        "    df['categorical_column'] = df['categorical_column'].fillna(df['categorical_column'].mode()[0])\n",
        "\n",
        "# Drop rows with any remaining missing values (if necessary)\n",
        "df = df.dropna()\n",
        "\n",
        "# Function to detect outliers using IQR\n",
        "def detect_outliers_iqr(df, column):\n",
        "    Q1 = df[column].quantile(0.25)\n",
        "    Q3 = df[column].quantile(0.75)\n",
        "    IQR = Q3 - Q1\n",
        "    lower_bound = Q1 - 1.5 * IQR\n",
        "    upper_bound = Q3 + 1.5 * IQR\n",
        "    return lower_bound, upper_bound\n",
        "\n",
        "# Detect and handle outliers in a numerical column\n",
        "if 'numerical_column' in df.columns:\n",
        "    lower_bound, upper_bound = detect_outliers_iqr(df, 'numerical_column')\n",
        "    outliers = df[(df['numerical_column'] < lower_bound) | (df['numerical_column'] > upper_bound)]\n",
        "    print(\"\\nDetected outliers:\\n\", outliers)\n",
        "\n",
        "    # Remove outliers\n",
        "    df = df[~df['numerical_column'].isin(outliers['numerical_column'])]\n",
        "\n",
        "    # Cap outliers\n",
        "    df['numerical_column'] = np.where(df['numerical_column'] > upper_bound, upper_bound,\n",
        "                                       np.where(df['numerical_column'] < lower_bound, lower_bound,\n",
        "                                                df['numerical_column']))\n",
        "\n",
        "# Boxplot to visualize outliers before and after handling\n",
        "plt.figure(figsize=(12, 6))\n",
        "sns.boxplot(data=df['numerical_column'])\n",
        "plt.title('Boxplot of Numerical Column After Outlier Handling')\n",
        "plt.show()\n",
        "\n",
        "# Save the cleaned dataset\n",
        "df.to_csv('cleaned_dataset.csv', index=False)"
      ]
    }
  ]
}